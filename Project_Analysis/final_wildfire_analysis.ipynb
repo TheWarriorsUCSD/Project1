{
 "cells": [
  {
   "cell_type": "code",
   "execution_count": 2,
   "metadata": {},
   "outputs": [],
   "source": [
    "# Dependencies and Setup\n",
    "from census import Census\n",
    "# from config import (census_key, gkey)\n",
    "import gmaps\n",
    "import numpy as np\n",
    "import pandas as pd\n",
    "import requests\n",
    "import time\n",
    "from pprint import pprint\n",
    "from scipy.stats import linregress\n",
    "from matplotlib import pyplot as plt\n",
    "from datetime import datetime\n",
    "# Import API key\n",
    "\n",
    "# from config import g_key\n",
    "Token = 'INSERT KEY HERE'"
   ]
  },
  {
   "cell_type": "code",
   "execution_count": 3,
   "metadata": {},
   "outputs": [
    {
     "name": "stderr",
     "output_type": "stream",
     "text": [
      "C:\\Users\\rafa_\\anaconda3\\lib\\site-packages\\IPython\\core\\interactiveshell.py:3071: DtypeWarning: Columns (11,12,35,37) have mixed types.Specify dtype option on import or set low_memory=False.\n",
      "  has_raised = await self.run_ast_nodes(code_ast.body, cell_name,\n"
     ]
    },
    {
     "data": {
      "text/html": [
       "<div>\n",
       "<style scoped>\n",
       "    .dataframe tbody tr th:only-of-type {\n",
       "        vertical-align: middle;\n",
       "    }\n",
       "\n",
       "    .dataframe tbody tr th {\n",
       "        vertical-align: top;\n",
       "    }\n",
       "\n",
       "    .dataframe thead th {\n",
       "        text-align: right;\n",
       "    }\n",
       "</style>\n",
       "<table border=\"1\" class=\"dataframe\">\n",
       "  <thead>\n",
       "    <tr style=\"text-align: right;\">\n",
       "      <th></th>\n",
       "      <th>OBJECTID</th>\n",
       "      <th>FOD_ID</th>\n",
       "      <th>FPA_ID</th>\n",
       "      <th>SOURCE_SYSTEM_TYPE</th>\n",
       "      <th>SOURCE_SYSTEM</th>\n",
       "      <th>NWCG_REPORTING_AGENCY</th>\n",
       "      <th>NWCG_REPORTING_UNIT_ID</th>\n",
       "      <th>NWCG_REPORTING_UNIT_NAME</th>\n",
       "      <th>SOURCE_REPORTING_UNIT</th>\n",
       "      <th>SOURCE_REPORTING_UNIT_NAME</th>\n",
       "      <th>...</th>\n",
       "      <th>FIRE_SIZE_CLASS</th>\n",
       "      <th>LATITUDE</th>\n",
       "      <th>LONGITUDE</th>\n",
       "      <th>OWNER_CODE</th>\n",
       "      <th>OWNER_DESCR</th>\n",
       "      <th>STATE</th>\n",
       "      <th>COUNTY</th>\n",
       "      <th>FIPS_CODE</th>\n",
       "      <th>FIPS_NAME</th>\n",
       "      <th>Shape</th>\n",
       "    </tr>\n",
       "  </thead>\n",
       "  <tbody>\n",
       "    <tr>\n",
       "      <th>0</th>\n",
       "      <td>1</td>\n",
       "      <td>1</td>\n",
       "      <td>FS-1418826</td>\n",
       "      <td>FED</td>\n",
       "      <td>FS-FIRESTAT</td>\n",
       "      <td>FS</td>\n",
       "      <td>USCAPNF</td>\n",
       "      <td>Plumas National Forest</td>\n",
       "      <td>511</td>\n",
       "      <td>Plumas National Forest</td>\n",
       "      <td>...</td>\n",
       "      <td>A</td>\n",
       "      <td>40.036944</td>\n",
       "      <td>-121.005833</td>\n",
       "      <td>5</td>\n",
       "      <td>USFS</td>\n",
       "      <td>CA</td>\n",
       "      <td>63</td>\n",
       "      <td>063</td>\n",
       "      <td>Plumas</td>\n",
       "      <td>b'\\x00\\x01\\xad\\x10\\x00\\x00\\xe8d\\xc2\\x92_@^\\xc0...</td>\n",
       "    </tr>\n",
       "    <tr>\n",
       "      <th>1</th>\n",
       "      <td>2</td>\n",
       "      <td>2</td>\n",
       "      <td>FS-1418827</td>\n",
       "      <td>FED</td>\n",
       "      <td>FS-FIRESTAT</td>\n",
       "      <td>FS</td>\n",
       "      <td>USCAENF</td>\n",
       "      <td>Eldorado National Forest</td>\n",
       "      <td>503</td>\n",
       "      <td>Eldorado National Forest</td>\n",
       "      <td>...</td>\n",
       "      <td>A</td>\n",
       "      <td>38.933056</td>\n",
       "      <td>-120.404444</td>\n",
       "      <td>5</td>\n",
       "      <td>USFS</td>\n",
       "      <td>CA</td>\n",
       "      <td>61</td>\n",
       "      <td>061</td>\n",
       "      <td>Placer</td>\n",
       "      <td>b'\\x00\\x01\\xad\\x10\\x00\\x00T\\xb6\\xeej\\xe2\\x19^\\...</td>\n",
       "    </tr>\n",
       "    <tr>\n",
       "      <th>2</th>\n",
       "      <td>3</td>\n",
       "      <td>3</td>\n",
       "      <td>FS-1418835</td>\n",
       "      <td>FED</td>\n",
       "      <td>FS-FIRESTAT</td>\n",
       "      <td>FS</td>\n",
       "      <td>USCAENF</td>\n",
       "      <td>Eldorado National Forest</td>\n",
       "      <td>503</td>\n",
       "      <td>Eldorado National Forest</td>\n",
       "      <td>...</td>\n",
       "      <td>A</td>\n",
       "      <td>38.984167</td>\n",
       "      <td>-120.735556</td>\n",
       "      <td>13</td>\n",
       "      <td>STATE OR PRIVATE</td>\n",
       "      <td>CA</td>\n",
       "      <td>17</td>\n",
       "      <td>017</td>\n",
       "      <td>El Dorado</td>\n",
       "      <td>b'\\x00\\x01\\xad\\x10\\x00\\x00\\xd0\\xa5\\xa0W\\x13/^\\...</td>\n",
       "    </tr>\n",
       "    <tr>\n",
       "      <th>3</th>\n",
       "      <td>4</td>\n",
       "      <td>4</td>\n",
       "      <td>FS-1418845</td>\n",
       "      <td>FED</td>\n",
       "      <td>FS-FIRESTAT</td>\n",
       "      <td>FS</td>\n",
       "      <td>USCAENF</td>\n",
       "      <td>Eldorado National Forest</td>\n",
       "      <td>503</td>\n",
       "      <td>Eldorado National Forest</td>\n",
       "      <td>...</td>\n",
       "      <td>A</td>\n",
       "      <td>38.559167</td>\n",
       "      <td>-119.913333</td>\n",
       "      <td>5</td>\n",
       "      <td>USFS</td>\n",
       "      <td>CA</td>\n",
       "      <td>3</td>\n",
       "      <td>003</td>\n",
       "      <td>Alpine</td>\n",
       "      <td>b'\\x00\\x01\\xad\\x10\\x00\\x00\\x94\\xac\\xa3\\rt\\xfa]...</td>\n",
       "    </tr>\n",
       "    <tr>\n",
       "      <th>4</th>\n",
       "      <td>5</td>\n",
       "      <td>5</td>\n",
       "      <td>FS-1418847</td>\n",
       "      <td>FED</td>\n",
       "      <td>FS-FIRESTAT</td>\n",
       "      <td>FS</td>\n",
       "      <td>USCAENF</td>\n",
       "      <td>Eldorado National Forest</td>\n",
       "      <td>503</td>\n",
       "      <td>Eldorado National Forest</td>\n",
       "      <td>...</td>\n",
       "      <td>A</td>\n",
       "      <td>38.559167</td>\n",
       "      <td>-119.933056</td>\n",
       "      <td>5</td>\n",
       "      <td>USFS</td>\n",
       "      <td>CA</td>\n",
       "      <td>3</td>\n",
       "      <td>003</td>\n",
       "      <td>Alpine</td>\n",
       "      <td>b'\\x00\\x01\\xad\\x10\\x00\\x00@\\xe3\\xaa.\\xb7\\xfb]\\...</td>\n",
       "    </tr>\n",
       "    <tr>\n",
       "      <th>...</th>\n",
       "      <td>...</td>\n",
       "      <td>...</td>\n",
       "      <td>...</td>\n",
       "      <td>...</td>\n",
       "      <td>...</td>\n",
       "      <td>...</td>\n",
       "      <td>...</td>\n",
       "      <td>...</td>\n",
       "      <td>...</td>\n",
       "      <td>...</td>\n",
       "      <td>...</td>\n",
       "      <td>...</td>\n",
       "      <td>...</td>\n",
       "      <td>...</td>\n",
       "      <td>...</td>\n",
       "      <td>...</td>\n",
       "      <td>...</td>\n",
       "      <td>...</td>\n",
       "      <td>...</td>\n",
       "      <td>...</td>\n",
       "      <td>...</td>\n",
       "    </tr>\n",
       "    <tr>\n",
       "      <th>189545</th>\n",
       "      <td>1880461</td>\n",
       "      <td>300348363</td>\n",
       "      <td>2015CAIRS29019636</td>\n",
       "      <td>NONFED</td>\n",
       "      <td>ST-CACDF</td>\n",
       "      <td>ST/C&amp;L</td>\n",
       "      <td>USCASHU</td>\n",
       "      <td>Shasta-Trinity Unit</td>\n",
       "      <td>CASHU</td>\n",
       "      <td>Shasta-Trinity Unit</td>\n",
       "      <td>...</td>\n",
       "      <td>A</td>\n",
       "      <td>40.481637</td>\n",
       "      <td>-122.389375</td>\n",
       "      <td>13</td>\n",
       "      <td>STATE OR PRIVATE</td>\n",
       "      <td>CA</td>\n",
       "      <td>NaN</td>\n",
       "      <td>NaN</td>\n",
       "      <td>NaN</td>\n",
       "      <td>b'\\x00\\x01\\xad\\x10\\x00\\x00P\\xb8\\x1e\\x85\\xeb\\x9...</td>\n",
       "    </tr>\n",
       "    <tr>\n",
       "      <th>189546</th>\n",
       "      <td>1880462</td>\n",
       "      <td>300348373</td>\n",
       "      <td>2015CAIRS29217935</td>\n",
       "      <td>NONFED</td>\n",
       "      <td>ST-CACDF</td>\n",
       "      <td>ST/C&amp;L</td>\n",
       "      <td>USCATCU</td>\n",
       "      <td>Tuolumne-Calaveras Unit</td>\n",
       "      <td>CATCU</td>\n",
       "      <td>Tuolumne-Calaveras Unit</td>\n",
       "      <td>...</td>\n",
       "      <td>A</td>\n",
       "      <td>37.617619</td>\n",
       "      <td>-120.938570</td>\n",
       "      <td>12</td>\n",
       "      <td>MUNICIPAL/LOCAL</td>\n",
       "      <td>CA</td>\n",
       "      <td>NaN</td>\n",
       "      <td>NaN</td>\n",
       "      <td>NaN</td>\n",
       "      <td>b'\\x00\\x01\\xad\\x10\\x00\\x00\\x00\\x80\\xbe\\x88\\x11...</td>\n",
       "    </tr>\n",
       "    <tr>\n",
       "      <th>189547</th>\n",
       "      <td>1880463</td>\n",
       "      <td>300348375</td>\n",
       "      <td>2015CAIRS28364460</td>\n",
       "      <td>NONFED</td>\n",
       "      <td>ST-CACDF</td>\n",
       "      <td>ST/C&amp;L</td>\n",
       "      <td>USCATCU</td>\n",
       "      <td>Tuolumne-Calaveras Unit</td>\n",
       "      <td>CATCU</td>\n",
       "      <td>Tuolumne-Calaveras Unit</td>\n",
       "      <td>...</td>\n",
       "      <td>A</td>\n",
       "      <td>37.617619</td>\n",
       "      <td>-120.938570</td>\n",
       "      <td>12</td>\n",
       "      <td>MUNICIPAL/LOCAL</td>\n",
       "      <td>CA</td>\n",
       "      <td>NaN</td>\n",
       "      <td>NaN</td>\n",
       "      <td>NaN</td>\n",
       "      <td>b'\\x00\\x01\\xad\\x10\\x00\\x00\\x00\\x80\\xbe\\x88\\x11...</td>\n",
       "    </tr>\n",
       "    <tr>\n",
       "      <th>189548</th>\n",
       "      <td>1880464</td>\n",
       "      <td>300348377</td>\n",
       "      <td>2015CAIRS29218079</td>\n",
       "      <td>NONFED</td>\n",
       "      <td>ST-CACDF</td>\n",
       "      <td>ST/C&amp;L</td>\n",
       "      <td>USCATCU</td>\n",
       "      <td>Tuolumne-Calaveras Unit</td>\n",
       "      <td>CATCU</td>\n",
       "      <td>Tuolumne-Calaveras Unit</td>\n",
       "      <td>...</td>\n",
       "      <td>B</td>\n",
       "      <td>37.672235</td>\n",
       "      <td>-120.898356</td>\n",
       "      <td>12</td>\n",
       "      <td>MUNICIPAL/LOCAL</td>\n",
       "      <td>CA</td>\n",
       "      <td>NaN</td>\n",
       "      <td>NaN</td>\n",
       "      <td>NaN</td>\n",
       "      <td>b'\\x00\\x01\\xad\\x10\\x00\\x00x\\xba_\\xaa~9^\\xc0\\xb...</td>\n",
       "    </tr>\n",
       "    <tr>\n",
       "      <th>189549</th>\n",
       "      <td>1880465</td>\n",
       "      <td>300348399</td>\n",
       "      <td>2015CAIRS26733926</td>\n",
       "      <td>NONFED</td>\n",
       "      <td>ST-CACDF</td>\n",
       "      <td>ST/C&amp;L</td>\n",
       "      <td>USCABDU</td>\n",
       "      <td>San Bernardino Unit</td>\n",
       "      <td>CABDU</td>\n",
       "      <td>CDF - San Bernardino Unit</td>\n",
       "      <td>...</td>\n",
       "      <td>A</td>\n",
       "      <td>34.263217</td>\n",
       "      <td>-116.830950</td>\n",
       "      <td>13</td>\n",
       "      <td>STATE OR PRIVATE</td>\n",
       "      <td>CA</td>\n",
       "      <td>NaN</td>\n",
       "      <td>NaN</td>\n",
       "      <td>NaN</td>\n",
       "      <td>b'\\x00\\x01\\xad\\x10\\x00\\x00\\x1c\\xa7\\xe8H.5]\\xc0...</td>\n",
       "    </tr>\n",
       "  </tbody>\n",
       "</table>\n",
       "<p>189550 rows × 39 columns</p>\n",
       "</div>"
      ],
      "text/plain": [
       "        OBJECTID     FOD_ID             FPA_ID SOURCE_SYSTEM_TYPE  \\\n",
       "0              1          1         FS-1418826                FED   \n",
       "1              2          2         FS-1418827                FED   \n",
       "2              3          3         FS-1418835                FED   \n",
       "3              4          4         FS-1418845                FED   \n",
       "4              5          5         FS-1418847                FED   \n",
       "...          ...        ...                ...                ...   \n",
       "189545   1880461  300348363  2015CAIRS29019636             NONFED   \n",
       "189546   1880462  300348373  2015CAIRS29217935             NONFED   \n",
       "189547   1880463  300348375  2015CAIRS28364460             NONFED   \n",
       "189548   1880464  300348377  2015CAIRS29218079             NONFED   \n",
       "189549   1880465  300348399  2015CAIRS26733926             NONFED   \n",
       "\n",
       "       SOURCE_SYSTEM NWCG_REPORTING_AGENCY NWCG_REPORTING_UNIT_ID  \\\n",
       "0        FS-FIRESTAT                    FS                USCAPNF   \n",
       "1        FS-FIRESTAT                    FS                USCAENF   \n",
       "2        FS-FIRESTAT                    FS                USCAENF   \n",
       "3        FS-FIRESTAT                    FS                USCAENF   \n",
       "4        FS-FIRESTAT                    FS                USCAENF   \n",
       "...              ...                   ...                    ...   \n",
       "189545      ST-CACDF                ST/C&L                USCASHU   \n",
       "189546      ST-CACDF                ST/C&L                USCATCU   \n",
       "189547      ST-CACDF                ST/C&L                USCATCU   \n",
       "189548      ST-CACDF                ST/C&L                USCATCU   \n",
       "189549      ST-CACDF                ST/C&L                USCABDU   \n",
       "\n",
       "        NWCG_REPORTING_UNIT_NAME SOURCE_REPORTING_UNIT  \\\n",
       "0         Plumas National Forest                   511   \n",
       "1       Eldorado National Forest                   503   \n",
       "2       Eldorado National Forest                   503   \n",
       "3       Eldorado National Forest                   503   \n",
       "4       Eldorado National Forest                   503   \n",
       "...                          ...                   ...   \n",
       "189545       Shasta-Trinity Unit                 CASHU   \n",
       "189546   Tuolumne-Calaveras Unit                 CATCU   \n",
       "189547   Tuolumne-Calaveras Unit                 CATCU   \n",
       "189548   Tuolumne-Calaveras Unit                 CATCU   \n",
       "189549       San Bernardino Unit                 CABDU   \n",
       "\n",
       "       SOURCE_REPORTING_UNIT_NAME  ...  FIRE_SIZE_CLASS   LATITUDE  \\\n",
       "0          Plumas National Forest  ...                A  40.036944   \n",
       "1        Eldorado National Forest  ...                A  38.933056   \n",
       "2        Eldorado National Forest  ...                A  38.984167   \n",
       "3        Eldorado National Forest  ...                A  38.559167   \n",
       "4        Eldorado National Forest  ...                A  38.559167   \n",
       "...                           ...  ...              ...        ...   \n",
       "189545        Shasta-Trinity Unit  ...                A  40.481637   \n",
       "189546    Tuolumne-Calaveras Unit  ...                A  37.617619   \n",
       "189547    Tuolumne-Calaveras Unit  ...                A  37.617619   \n",
       "189548    Tuolumne-Calaveras Unit  ...                B  37.672235   \n",
       "189549  CDF - San Bernardino Unit  ...                A  34.263217   \n",
       "\n",
       "         LONGITUDE OWNER_CODE       OWNER_DESCR STATE COUNTY FIPS_CODE  \\\n",
       "0      -121.005833          5              USFS    CA     63       063   \n",
       "1      -120.404444          5              USFS    CA     61       061   \n",
       "2      -120.735556         13  STATE OR PRIVATE    CA     17       017   \n",
       "3      -119.913333          5              USFS    CA      3       003   \n",
       "4      -119.933056          5              USFS    CA      3       003   \n",
       "...            ...        ...               ...   ...    ...       ...   \n",
       "189545 -122.389375         13  STATE OR PRIVATE    CA    NaN       NaN   \n",
       "189546 -120.938570         12   MUNICIPAL/LOCAL    CA    NaN       NaN   \n",
       "189547 -120.938570         12   MUNICIPAL/LOCAL    CA    NaN       NaN   \n",
       "189548 -120.898356         12   MUNICIPAL/LOCAL    CA    NaN       NaN   \n",
       "189549 -116.830950         13  STATE OR PRIVATE    CA    NaN       NaN   \n",
       "\n",
       "        FIPS_NAME                                              Shape  \n",
       "0          Plumas  b'\\x00\\x01\\xad\\x10\\x00\\x00\\xe8d\\xc2\\x92_@^\\xc0...  \n",
       "1          Placer  b'\\x00\\x01\\xad\\x10\\x00\\x00T\\xb6\\xeej\\xe2\\x19^\\...  \n",
       "2       El Dorado  b'\\x00\\x01\\xad\\x10\\x00\\x00\\xd0\\xa5\\xa0W\\x13/^\\...  \n",
       "3          Alpine  b'\\x00\\x01\\xad\\x10\\x00\\x00\\x94\\xac\\xa3\\rt\\xfa]...  \n",
       "4          Alpine  b'\\x00\\x01\\xad\\x10\\x00\\x00@\\xe3\\xaa.\\xb7\\xfb]\\...  \n",
       "...           ...                                                ...  \n",
       "189545        NaN  b'\\x00\\x01\\xad\\x10\\x00\\x00P\\xb8\\x1e\\x85\\xeb\\x9...  \n",
       "189546        NaN  b'\\x00\\x01\\xad\\x10\\x00\\x00\\x00\\x80\\xbe\\x88\\x11...  \n",
       "189547        NaN  b'\\x00\\x01\\xad\\x10\\x00\\x00\\x00\\x80\\xbe\\x88\\x11...  \n",
       "189548        NaN  b'\\x00\\x01\\xad\\x10\\x00\\x00x\\xba_\\xaa~9^\\xc0\\xb...  \n",
       "189549        NaN  b'\\x00\\x01\\xad\\x10\\x00\\x00\\x1c\\xa7\\xe8H.5]\\xc0...  \n",
       "\n",
       "[189550 rows x 39 columns]"
      ]
     },
     "execution_count": 3,
     "metadata": {},
     "output_type": "execute_result"
    }
   ],
   "source": [
    "#Reading csv data for Wildfires\n",
    "wildfire = pd.read_csv(\"../Wildfire_Data/wildfire_data_CA.csv\", dtype={'FIPS_CODE':str})\n",
    "wildfire"
   ]
  },
  {
   "cell_type": "code",
   "execution_count": 4,
   "metadata": {},
   "outputs": [
    {
     "data": {
      "text/plain": [
       "NWCG_REPORTING_UNIT_NAME     object\n",
       "FIRE_NAME                    object\n",
       "FIRE_YEAR                     int64\n",
       "DISCOVERY_DATE              float64\n",
       "DISCOVERY_DOY                 int64\n",
       "DISCOVERY_TIME              float64\n",
       "STAT_CAUSE_CODE               int64\n",
       "STAT_CAUSE_DESCR             object\n",
       "CONT_DATE                   float64\n",
       "CONT_DOY                    float64\n",
       "CONT_TIME                   float64\n",
       "FIRE_SIZE                   float64\n",
       "FIRE_SIZE_CLASS              object\n",
       "LATITUDE                    float64\n",
       "LONGITUDE                   float64\n",
       "FIPS_CODE                    object\n",
       "FIPS_NAME                    object\n",
       "Shape                        object\n",
       "dtype: object"
      ]
     },
     "execution_count": 4,
     "metadata": {},
     "output_type": "execute_result"
    }
   ],
   "source": [
    "#Droppping unnecessary columns for analysis\n",
    "wildfire = wildfire.drop(columns=[\"LOCAL_FIRE_REPORT_ID\", \"LOCAL_INCIDENT_ID\", \"STATE\",\"OBJECTID\",\"FOD_ID\",\"FPA_ID\", \"SOURCE_SYSTEM_TYPE\", \"SOURCE_SYSTEM\", \"NWCG_REPORTING_AGENCY\", \"NWCG_REPORTING_UNIT_ID\", \"SOURCE_REPORTING_UNIT\", \"SOURCE_REPORTING_UNIT_NAME\", \"OWNER_CODE\",\"OWNER_DESCR\", \"FIRE_CODE\", \"ICS_209_INCIDENT_NUMBER\", \"ICS_209_NAME\", \"MTBS_ID\", \"MTBS_FIRE_NAME\", \"COMPLEX_NAME\", \"COUNTY\"])\n",
    "wildfire.dtypes"
   ]
  },
  {
   "cell_type": "code",
   "execution_count": 5,
   "metadata": {},
   "outputs": [],
   "source": [
    "#Rewriting a cleaner csv (Makes code run faster)\n",
    "wf = wildfire\n",
    "wf.to_csv(\"wf.csv\", index=False)"
   ]
  },
  {
   "cell_type": "code",
   "execution_count": 6,
   "metadata": {},
   "outputs": [],
   "source": [
    "wildfire = pd.read_csv(\"wf.csv\", dtype={\"FIPS_NAME\": str,'FIPS_CODE':str})"
   ]
  },
  {
   "cell_type": "code",
   "execution_count": 7,
   "metadata": {},
   "outputs": [],
   "source": [
    "#Subsetting data from 2005 on\n",
    "wildfire = wildfire[wildfire[\"FIRE_YEAR\"] >= 2005]"
   ]
  },
  {
   "cell_type": "code",
   "execution_count": 8,
   "metadata": {},
   "outputs": [
    {
     "data": {
      "text/plain": [
       "FIRE_YEAR\n",
       "2005     258714.870\n",
       "2006     812711.940\n",
       "2007    1045291.620\n",
       "2008    1430153.600\n",
       "2009     455350.040\n",
       "2010     120947.040\n",
       "2011     192286.920\n",
       "2012     764766.640\n",
       "2013     581410.292\n",
       "2014     546878.780\n",
       "2015     848728.610\n",
       "Name: FIRE_SIZE, dtype: float64"
      ]
     },
     "execution_count": 8,
     "metadata": {},
     "output_type": "execute_result"
    }
   ],
   "source": [
    "#Checking the number of acres burned throuhgout the years\n",
    "fs = wildfire.groupby(\"FIRE_YEAR\")\n",
    "fsum = fs[\"FIRE_SIZE\"].sum().to_frame()\n",
    "fsum[\"FIRE_SIZE\"]"
   ]
  },
  {
   "cell_type": "code",
   "execution_count": 9,
   "metadata": {},
   "outputs": [
    {
     "name": "stderr",
     "output_type": "stream",
     "text": [
      "<ipython-input-9-e95fcee104b1>:5: MatplotlibDeprecationWarning: Adding an axes using the same arguments as a previous axes currently reuses the earlier instance.  In a future version, a new instance will always be created and returned.  Meanwhile, this warning can be suppressed, and the future behavior ensured, by passing a unique label to each axes instance.\n",
      "  ax1 = plt.subplot(1,1,1)\n"
     ]
    },
    {
     "data": {
      "text/plain": [
       "Text(0.5, 1.0, 'Fires Severity throughout the years')"
      ]
     },
     "execution_count": 9,
     "metadata": {},
     "output_type": "execute_result"
    },
    {
     "data": {
      "image/png": "[encoded data removed]",
      "text/plain": [
       "<Figure size 432x288 with 2 Axes>"
      ]
     },
     "metadata": {
      "needs_background": "light"
     },
     "output_type": "display_data"
    }
   ],
   "source": [
    "#Plotting the fire severity vs the Occurence\n",
    "#A good way of doing this was separating two plots and plotting them on the same x axis\n",
    "\n",
    "years = wildfire[\"FIRE_YEAR\"].value_counts()\n",
    "x = years.index\n",
    "w = 0.3\n",
    "plt.xticks(x + w /2, years.index, rotation='vertical')\n",
    "ax1 = plt.subplot(1,1,1)\n",
    "\n",
    "occur = ax1.bar(x, years.values, width=w, color='b', align='center', label = \"Number of Ocurrences\")\n",
    "ax1.set_ylabel(\"Number of Occurences\")\n",
    "ax2 = ax1.twinx()\n",
    "acres = ax2.bar(x + w, fsum[\"FIRE_SIZE\"], width=w,color='g',align='center')\n",
    "\n",
    "ax1.set_xlabel(\"Years\")\n",
    "plt.ylabel(\"Acres Burned (ha)\")\n",
    "plt.legend([occur, acres],[\"Occurences\", 'Acres'])\n",
    "plt.title(\"Fires Severity throughout the years\")"
   ]
  },
  {
   "cell_type": "code",
   "execution_count": 10,
   "metadata": {},
   "outputs": [
    {
     "data": {
      "text/plain": [
       "Text(0, 0.5, 'Number of Occurrences')"
      ]
     },
     "execution_count": 10,
     "metadata": {},
     "output_type": "execute_result"
    },
    {
     "data": {
      "image/png": "[encoded data removed]",
      "text/plain": [
       "<Figure size 432x288 with 1 Axes>"
      ]
     },
     "metadata": {
      "needs_background": "light"
     },
     "output_type": "display_data"
    }
   ],
   "source": [
    "#Plotting Occurences By Fire Class\n",
    "fsc = wildfire[\"FIRE_SIZE_CLASS\"].value_counts()\n",
    "plt.bar(fsc.index, fsc.values)\n",
    "plt.title(\"Occurrences of fires by class\")\n",
    "plt.xlabel(\"Fire Class\")\n",
    "plt.ylabel(\"Number of Occurrences\")"
   ]
  },
  {
   "cell_type": "code",
   "execution_count": 11,
   "metadata": {},
   "outputs": [
    {
     "name": "stdout",
     "output_type": "stream",
     "text": [
      "FIRE_SIZE_CLASS\n",
      "A       4739.102\n",
      "B      55239.320\n",
      "C     113860.760\n",
      "D     133879.420\n",
      "E     243214.970\n",
      "F     745493.750\n",
      "G    5760813.030\n",
      "Name: FIRE_SIZE, dtype: float64\n"
     ]
    },
    {
     "data": {
      "text/plain": [
       "Text(0, 0.5, 'Number of Acres Burned')"
      ]
     },
     "execution_count": 11,
     "metadata": {},
     "output_type": "execute_result"
    },
    {
     "data": {
      "image/png": "[encoded data removed]",
      "text/plain": [
       "<Figure size 432x288 with 1 Axes>"
      ]
     },
     "metadata": {
      "needs_background": "light"
     },
     "output_type": "display_data"
    }
   ],
   "source": [
    "#Plotting Fire severity by class\n",
    "burned = wildfire.groupby(\"FIRE_SIZE_CLASS\")\n",
    "acres_burned = burned['FIRE_SIZE'].sum()\n",
    "pprint(acres_burned)\n",
    "plt.bar(acres_burned.index, acres_burned.values)\n",
    "plt.title(\"Total Burned Acres by class\")\n",
    "plt.xlabel(\"Fire Class\")\n",
    "plt.ylabel(\"Number of Acres Burned\")"
   ]
  },
  {
   "cell_type": "code",
   "execution_count": 12,
   "metadata": {},
   "outputs": [
    {
     "name": "stdout",
     "output_type": "stream",
     "text": [
      "STAT_CAUSE_DESCR\n",
      "Arson                 362885.590\n",
      "Campfire              380046.200\n",
      "Children               93377.280\n",
      "Debris Burning        217168.581\n",
      "Equipment Use         703392.740\n",
      "Fireworks               1250.900\n",
      "Lightning            3027373.320\n",
      "Miscellaneous        1577044.631\n",
      "Missing/Undefined     572290.100\n",
      "Powerline              29290.530\n",
      "Railroad               11786.730\n",
      "Smoking                 6149.750\n",
      "Structure              75184.000\n",
      "Name: FIRE_SIZE, dtype: float64\n"
     ]
    },
    {
     "data": {
      "text/plain": [
       "([0, 1, 2, 3, 4, 5, 6, 7, 8, 9, 10, 11, 12],\n",
       " <a list of 13 Text major ticklabel objects>)"
      ]
     },
     "execution_count": 12,
     "metadata": {},
     "output_type": "execute_result"
    },
    {
     "data": {
      "image/png": "[encoded data removed]",
      "text/plain": [
       "<Figure size 432x288 with 1 Axes>"
      ]
     },
     "metadata": {
      "needs_background": "light"
     },
     "output_type": "display_data"
    }
   ],
   "source": [
    "#Checking out the acres burned by cause of fire\n",
    "burned = wildfire.groupby(\"STAT_CAUSE_DESCR\")\n",
    "acres_burned = burned['FIRE_SIZE'].sum()\n",
    "pprint(acres_burned)\n",
    "plt.bar(acres_burned.index, acres_burned.values)\n",
    "plt.title(\"Total Burned Acres by Cause\")\n",
    "plt.xlabel(\"Fire Cause\")\n",
    "plt.ylabel(\"Number of Acres Burned\")\n",
    "plt.xticks(rotation = 90)"
   ]
  },
  {
   "cell_type": "code",
   "execution_count": 13,
   "metadata": {},
   "outputs": [
    {
     "data": {
      "text/plain": [
       "([0, 1, 2, 3, 4, 5, 6, 7, 8, 9, 10, 11, 12],\n",
       " <a list of 13 Text major ticklabel objects>)"
      ]
     },
     "execution_count": 13,
     "metadata": {},
     "output_type": "execute_result"
    },
    {
     "data": {
      "image/png": "[encoded data removed]",
      "text/plain": [
       "<Figure size 432x288 with 1 Axes>"
      ]
     },
     "metadata": {
      "needs_background": "light"
     },
     "output_type": "display_data"
    }
   ],
   "source": [
    "#Plotting the occurence of fires by cause\n",
    "fsc = wildfire[\"STAT_CAUSE_DESCR\"].value_counts()\n",
    "plt.bar(fsc.index, fsc.values)\n",
    "plt.title(\"Occurrences of fires by cause\")\n",
    "plt.xlabel(\"Fire Cause\")\n",
    "plt.ylabel(\"Number of Occurrences\")\n",
    "plt.xticks(rotation = 90)"
   ]
  },
  {
   "cell_type": "code",
   "execution_count": 14,
   "metadata": {},
   "outputs": [
    {
     "data": {
      "text/plain": [
       "([0, 1, 2, 3, 4, 5, 6, 7, 8, 9, 10, 11, 12, 13, 14, 15, 16, 17],\n",
       " <a list of 18 Text major ticklabel objects>)"
      ]
     },
     "execution_count": 14,
     "metadata": {},
     "output_type": "execute_result"
    },
    {
     "data": {
      "image/png": "[encoded data removed]",
      "text/plain": [
       "<Figure size 432x288 with 1 Axes>"
      ]
     },
     "metadata": {
      "needs_background": "light"
     },
     "output_type": "display_data"
    }
   ],
   "source": [
    "#Time to check some local data.\n",
    "#How many acres were burned by county\n",
    "burned = wildfire.groupby(\"FIPS_NAME\")\n",
    "acres_burned = burned['FIRE_SIZE'].sum()\n",
    "acres_burned=acres_burned[acres_burned.values >=100000]\n",
    "acres_burned.sort_values(inplace=True, ascending=False)\n",
    "plt.bar(acres_burned.index, acres_burned.values)\n",
    "plt.title(\"Total Burned Acres by County\")\n",
    "plt.xlabel(\"County\")\n",
    "plt.ylabel(\"Number of Acres Burned\")\n",
    "plt.xticks(rotation = 90)"
   ]
  },
  {
   "cell_type": "code",
   "execution_count": 15,
   "metadata": {},
   "outputs": [
    {
     "data": {
      "text/plain": [
       "<Figure size 2880x216 with 0 Axes>"
      ]
     },
     "execution_count": 15,
     "metadata": {},
     "output_type": "execute_result"
    },
    {
     "data": {
      "image/png": "[encoded data removed]",
      "text/plain": [
       "<Figure size 432x288 with 1 Axes>"
      ]
     },
     "metadata": {
      "needs_background": "light"
     },
     "output_type": "display_data"
    },
    {
     "data": {
      "text/plain": [
       "<Figure size 2880x216 with 0 Axes>"
      ]
     },
     "metadata": {},
     "output_type": "display_data"
    }
   ],
   "source": [
    "#Now let's see how many occurences happened by county\n",
    "locs = wildfire[\"FIPS_NAME\"].value_counts()\n",
    "locs = locs[locs.values >= 1000]\n",
    "plt.bar(locs.index, locs.values, width = 0.8)\n",
    "plt.title(\"Occurrences by Counties\")\n",
    "plt.xlabel(\"County\")\n",
    "plt.xticks(rotation = 90)\n",
    "plt.ylabel(\"Number of Occurences\")\n",
    "plt.figure(figsize=(40, 3))"
   ]
  },
  {
   "cell_type": "code",
   "execution_count": 16,
   "metadata": {},
   "outputs": [
    {
     "data": {
      "text/plain": [
       "<function matplotlib.pyplot.show(*args, **kw)>"
      ]
     },
     "execution_count": 16,
     "metadata": {},
     "output_type": "execute_result"
    },
    {
     "data": {
      "image/png": "[encoded data removed]",
      "text/plain": [
       "<Figure size 432x288 with 1 Axes>"
      ]
     },
     "metadata": {
      "needs_background": "light"
     },
     "output_type": "display_data"
    }
   ],
   "source": [
    "#A good way to see a season trend is to plot the occurences throughout the months\n",
    "#This way we looped through all 10 years to have a better idea of what's happening\n",
    "wildfire['DATE'] = pd.to_datetime(wildfire['DISCOVERY_DATE'] - pd.Timestamp(0).to_julian_date(), unit='D')\n",
    "wildfire['MONTH'] = pd.DatetimeIndex(wildfire['DATE']).month\n",
    "\n",
    "yr = wildfire.groupby(\"FIRE_YEAR\")\n",
    "\n",
    "gry = []\n",
    "\n",
    "for year, data in yr:\n",
    "    months = data[\"MONTH\"].value_counts()\n",
    "    plt.scatter(months.index, months.values)\n",
    "    gry.append(year)\n",
    "\n",
    "    \n",
    "plt.xlabel(\"Months\")\n",
    "plt.ylabel(\"Fire Occurrences\")\n",
    "plt.legend(gry)\n",
    "plt.title(\"Fire occurences throughout the years\")\n",
    "plt.show"
   ]
  },
  {
   "cell_type": "code",
   "execution_count": 160,
   "metadata": {},
   "outputs": [],
   "source": [
    "#Setting up some empty lists to acquire NOAA Data\n",
    "years=[]\n",
    "months=[]\n",
    "fips_code=[]\n",
    "temps=[]\n",
    "wind=[]\n",
    "precip=[]\n",
    "\n",
    "\n",
    "query_url = 'https://www.ncdc.noaa.gov/cdo-web/api/v2/data?datasetid=GSOM&units=standard&limit=1000'"
   ]
  },
  {
   "cell_type": "code",
   "execution_count": 161,
   "metadata": {},
   "outputs": [
    {
     "name": "stdout",
     "output_type": "stream",
     "text": [
      "Index(['065', '037', '071', '019', '093', '017', '073', '089', '061', '039',\n",
      "       '007', '047', '105', '063', '109', '029', '049', '035'],\n",
      "      dtype='object')\n"
     ]
    }
   ],
   "source": [
    "#We are just using counties with more than 1000 fires in total to make the data a little smaller\n",
    "counties = wildfire[\"FIPS_CODE\"].value_counts()\n",
    "counties = counties[counties.values >= 1000]\n",
    "pprint(counties.index) "
   ]
  },
  {
   "cell_type": "markdown",
   "metadata": {},
   "source": [
    "## This is the temperature NOAA API we used, because it took a long time to run we decided not to run the other two parameters."
   ]
  },
  {
   "cell_type": "code",
   "execution_count": 171,
   "metadata": {
    "scrolled": true
   },
   "outputs": [
    {
     "name": "stdout",
     "output_type": "stream",
     "text": [
      "'065'\n",
      "2005\n",
      "2006\n",
      "2007\n",
      "2008\n",
      "2009\n",
      "2010\n",
      "'error occurred, appending 0 placeholder to all values'\n",
      "2011\n",
      "2012\n",
      "2013\n",
      "2014\n",
      "2015\n",
      "'037'\n",
      "2005\n",
      "2006\n",
      "2007\n",
      "2008\n",
      "2009\n",
      "2010\n",
      "2011\n",
      "2012\n",
      "2013\n",
      "2014\n",
      "2015\n",
      "'071'\n",
      "2005\n",
      "2006\n",
      "2007\n",
      "2008\n",
      "2009\n",
      "2010\n",
      "2011\n",
      "2012\n",
      "2013\n",
      "2014\n",
      "2015\n",
      "'019'\n",
      "2005\n",
      "2006\n",
      "2007\n",
      "2008\n",
      "2009\n",
      "2010\n",
      "2011\n",
      "2012\n",
      "2013\n",
      "2014\n",
      "2015\n",
      "'093'\n",
      "2005\n",
      "2006\n",
      "2007\n",
      "2008\n",
      "2009\n",
      "2010\n",
      "2011\n",
      "2012\n",
      "2013\n",
      "2014\n",
      "2015\n",
      "'017'\n",
      "2005\n",
      "2006\n",
      "2007\n",
      "2008\n",
      "2009\n",
      "2010\n",
      "2011\n",
      "2012\n",
      "2013\n",
      "2014\n",
      "2015\n",
      "'073'\n",
      "2005\n",
      "2006\n",
      "2007\n",
      "2008\n",
      "2009\n",
      "2010\n",
      "2011\n",
      "2012\n",
      "'error occurred, appending 0 placeholder to all values'\n",
      "2013\n",
      "2014\n",
      "2015\n",
      "'089'\n",
      "2005\n",
      "2006\n",
      "2007\n",
      "2008\n",
      "2009\n",
      "2010\n",
      "2011\n",
      "2012\n",
      "2013\n",
      "2014\n",
      "2015\n",
      "'061'\n",
      "2005\n",
      "2006\n",
      "2007\n",
      "2008\n",
      "2009\n",
      "2010\n",
      "2011\n",
      "2012\n",
      "2013\n",
      "2014\n",
      "2015\n",
      "'039'\n",
      "2005\n",
      "2006\n",
      "2007\n",
      "2008\n",
      "2009\n",
      "2010\n",
      "2011\n",
      "2012\n",
      "2013\n",
      "2014\n",
      "2015\n",
      "'007'\n",
      "2005\n",
      "2006\n",
      "2007\n",
      "2008\n",
      "2009\n",
      "2010\n",
      "2011\n",
      "2012\n",
      "2013\n",
      "2014\n",
      "2015\n",
      "'047'\n",
      "2005\n",
      "2006\n",
      "2007\n",
      "2008\n",
      "2009\n",
      "2010\n",
      "2011\n",
      "2012\n",
      "2013\n",
      "2014\n",
      "2015\n",
      "'105'\n",
      "2005\n",
      "2006\n",
      "2007\n",
      "2008\n",
      "2009\n",
      "2010\n",
      "2011\n",
      "2012\n",
      "2013\n",
      "2014\n",
      "2015\n",
      "'063'\n",
      "2005\n",
      "2006\n",
      "2007\n",
      "2008\n",
      "2009\n",
      "2010\n",
      "2011\n",
      "2012\n",
      "2013\n",
      "2014\n",
      "2015\n",
      "'109'\n",
      "2005\n",
      "2006\n",
      "2007\n",
      "2008\n",
      "2009\n",
      "2010\n",
      "2011\n",
      "2012\n",
      "2013\n",
      "2014\n",
      "2015\n",
      "'029'\n",
      "2005\n",
      "2006\n",
      "2007\n",
      "2008\n",
      "2009\n",
      "2010\n",
      "2011\n",
      "2012\n",
      "2013\n",
      "2014\n",
      "2015\n",
      "'049'\n",
      "2005\n",
      "2006\n",
      "2007\n",
      "2008\n",
      "2009\n",
      "2010\n",
      "2011\n",
      "2012\n",
      "'error occurred, appending 0 placeholder to all values'\n",
      "2013\n",
      "2014\n",
      "2015\n",
      "'035'\n",
      "2005\n",
      "2006\n",
      "2007\n",
      "2008\n",
      "2009\n",
      "2010\n",
      "2011\n",
      "2012\n",
      "2013\n",
      "2014\n",
      "2015\n"
     ]
    }
   ],
   "source": [
    "#takes about 20 minutes to run\n",
    "years=[]\n",
    "months=[]\n",
    "fips_code=[]\n",
    "temps=[]\n",
    "wind=[]\n",
    "precip=[]\n",
    "\n",
    "for code in counties.index:\n",
    "    pprint(code)\n",
    "    for year in range(2005,2016,1):\n",
    "        pprint(year)\n",
    "        for month in range(1,13,1):\n",
    "            #request for temperature data\n",
    "            try:\n",
    "                responseTEMP = requests.get(query_url+f'&datatypeid=TMAX&locationid=FIPS:06{code}&startdate={year}-{month:02.0f}-01&enddate={year}-{month:02.0f}-01',headers = {'token':Token}).json()\n",
    "                calc_temp=0\n",
    "                avg_temp=0\n",
    "                for y in range(len(responseTEMP['results'])):\n",
    "                    calc_temp+=responseTEMP['results'][y]['value']\n",
    "                    avg_temp=calc_temp/len(responseTEMP['results'])\n",
    "                temps.append(avg_temp)\n",
    "\n",
    "                years.append(year)\n",
    "                months.append(month)\n",
    "                fips_code.append(code)\n",
    "                \n",
    "            except:\n",
    "                pprint('error occurred, appending 0 placeholder to all values')\n",
    "                temps.append(0)\n",
    "                years.append(year)\n",
    "                months.append(month)\n",
    "                fips_code.append(code)\n"
   ]
  },
  {
   "cell_type": "code",
   "execution_count": 174,
   "metadata": {
    "scrolled": true
   },
   "outputs": [
    {
     "data": {
      "text/html": [
       "<div>\n",
       "<style scoped>\n",
       "    .dataframe tbody tr th:only-of-type {\n",
       "        vertical-align: middle;\n",
       "    }\n",
       "\n",
       "    .dataframe tbody tr th {\n",
       "        vertical-align: top;\n",
       "    }\n",
       "\n",
       "    .dataframe thead th {\n",
       "        text-align: right;\n",
       "    }\n",
       "</style>\n",
       "<table border=\"1\" class=\"dataframe\">\n",
       "  <thead>\n",
       "    <tr style=\"text-align: right;\">\n",
       "      <th></th>\n",
       "      <th>FIPS_CODE</th>\n",
       "      <th>YEAR</th>\n",
       "      <th>MONTH</th>\n",
       "      <th>TMAX</th>\n",
       "    </tr>\n",
       "  </thead>\n",
       "  <tbody>\n",
       "    <tr>\n",
       "      <th>0</th>\n",
       "      <td>065</td>\n",
       "      <td>2005</td>\n",
       "      <td>1</td>\n",
       "      <td>63.500000</td>\n",
       "    </tr>\n",
       "    <tr>\n",
       "      <th>1</th>\n",
       "      <td>065</td>\n",
       "      <td>2005</td>\n",
       "      <td>2</td>\n",
       "      <td>63.240000</td>\n",
       "    </tr>\n",
       "    <tr>\n",
       "      <th>2</th>\n",
       "      <td>065</td>\n",
       "      <td>2005</td>\n",
       "      <td>3</td>\n",
       "      <td>70.582609</td>\n",
       "    </tr>\n",
       "    <tr>\n",
       "      <th>3</th>\n",
       "      <td>065</td>\n",
       "      <td>2005</td>\n",
       "      <td>4</td>\n",
       "      <td>77.275000</td>\n",
       "    </tr>\n",
       "    <tr>\n",
       "      <th>4</th>\n",
       "      <td>065</td>\n",
       "      <td>2005</td>\n",
       "      <td>5</td>\n",
       "      <td>85.775000</td>\n",
       "    </tr>\n",
       "    <tr>\n",
       "      <th>...</th>\n",
       "      <td>...</td>\n",
       "      <td>...</td>\n",
       "      <td>...</td>\n",
       "      <td>...</td>\n",
       "    </tr>\n",
       "    <tr>\n",
       "      <th>2371</th>\n",
       "      <td>035</td>\n",
       "      <td>2015</td>\n",
       "      <td>8</td>\n",
       "      <td>84.375000</td>\n",
       "    </tr>\n",
       "    <tr>\n",
       "      <th>2372</th>\n",
       "      <td>035</td>\n",
       "      <td>2015</td>\n",
       "      <td>9</td>\n",
       "      <td>78.130769</td>\n",
       "    </tr>\n",
       "    <tr>\n",
       "      <th>2373</th>\n",
       "      <td>035</td>\n",
       "      <td>2015</td>\n",
       "      <td>10</td>\n",
       "      <td>68.323077</td>\n",
       "    </tr>\n",
       "    <tr>\n",
       "      <th>2374</th>\n",
       "      <td>035</td>\n",
       "      <td>2015</td>\n",
       "      <td>11</td>\n",
       "      <td>44.307692</td>\n",
       "    </tr>\n",
       "    <tr>\n",
       "      <th>2375</th>\n",
       "      <td>035</td>\n",
       "      <td>2015</td>\n",
       "      <td>12</td>\n",
       "      <td>37.733333</td>\n",
       "    </tr>\n",
       "  </tbody>\n",
       "</table>\n",
       "<p>2376 rows × 4 columns</p>\n",
       "</div>"
      ],
      "text/plain": [
       "     FIPS_CODE  YEAR  MONTH       TMAX\n",
       "0          065  2005      1  63.500000\n",
       "1          065  2005      2  63.240000\n",
       "2          065  2005      3  70.582609\n",
       "3          065  2005      4  77.275000\n",
       "4          065  2005      5  85.775000\n",
       "...        ...   ...    ...        ...\n",
       "2371       035  2015      8  84.375000\n",
       "2372       035  2015      9  78.130769\n",
       "2373       035  2015     10  68.323077\n",
       "2374       035  2015     11  44.307692\n",
       "2375       035  2015     12  37.733333\n",
       "\n",
       "[2376 rows x 4 columns]"
      ]
     },
     "execution_count": 174,
     "metadata": {},
     "output_type": "execute_result"
    }
   ],
   "source": [
    "NOAA_data={'FIPS_CODE':fips_code,'YEAR':years,'MONTH':months,'TMAX':temps}\n",
    "NOAA_df=pd.DataFrame(NOAA_data)\n",
    "NOAA_df"
   ]
  },
  {
   "cell_type": "code",
   "execution_count": 215,
   "metadata": {
    "scrolled": true
   },
   "outputs": [
    {
     "name": "stdout",
     "output_type": "stream",
     "text": [
      "Index(['023', '103', '057', '009', '045', '097', '107', '079', '053', '051',\n",
      "       '013', '115', '087', '067', '033', '059', '005', '043', '055', '085',\n",
      "       '091', '077', '027', '003', '001', '099', '015', '113', '083', '081',\n",
      "       '069', '095', '025', '111', '031', '021', '011', '041', '101', '075'],\n",
      "      dtype='object')\n"
     ]
    }
   ],
   "source": [
    "#Let's drop the counties that have less than 1000 fires\n",
    "drops = wildfire[\"FIPS_CODE\"].value_counts()\n",
    "drops = drops[drops.values <= 1000]\n",
    "labels=drops.index\n",
    "pprint(labels)\n",
    "\n",
    "wf_select=wildfire\n",
    "for x in range(len(labels)):\n",
    "    wf_select=wf_select.drop(wildfire[wildfire['FIPS_CODE']==labels[x]].index)\n",
    "\n",
    "wildfire_group = wf_select.groupby(['FIPS_CODE','FIRE_YEAR','MONTH'])\n",
    "severity_df = pd.DataFrame(wildfire_group['FIRE_SIZE'].sum())\n",
    "temp_df = severity_df.merge(NOAA_df, how='left',left_on=['FIPS_CODE','FIRE_YEAR','MONTH'],right_on=['FIPS_CODE','YEAR','MONTH'])"
   ]
  },
  {
   "cell_type": "code",
   "execution_count": 223,
   "metadata": {},
   "outputs": [
    {
     "data": {
      "text/plain": [
       "<function show at 0x0000027FC6F74E18>"
      ]
     },
     "execution_count": 223,
     "metadata": {},
     "output_type": "execute_result"
    },
    {
     "data": {
      "image/png": "[encoded data removed]",
      "text/plain": [
       "<Figure size 432x288 with 1 Axes>"
      ]
     },
     "metadata": {
      "needs_background": "light"
     },
     "output_type": "display_data"
    }
   ],
   "source": [
    "#Scatter plot of severity vs Max Temp\n",
    "#We can see that fires tend to get worse above 75F\n",
    "plt.scatter(temp_df['TMAX'],temp_df['FIRE_SIZE'],)\n",
    "plt.xlabel(\"Max Temperature (F)\")\n",
    "plt.ylabel(\"Acres Burned\")\n",
    "plt.title(\"Fire Severity vs. Max Temp\")\n",
    "plt.xlim(30,110)\n",
    "plt.show"
   ]
  },
  {
   "cell_type": "markdown",
   "metadata": {},
   "source": [
    "## This two cells bellow would give us the precipitation and wind data"
   ]
  },
  {
   "cell_type": "code",
   "execution_count": null,
   "metadata": {},
   "outputs": [],
   "source": [
    "#takes about 20 minutes to run\n",
    "for code in counties.index:\n",
    "    pprint(code)\n",
    "    for year in range(2005,2016,1):\n",
    "        pprint(year)\n",
    "        for month in range(1,13,1):\n",
    "            #request for precipitation data\n",
    "            try:\n",
    "                responsePRCP = requests.get(query_url+f'&datatypeid=PRCP&locationid=FIPS:06{code}&startdate={year}-{month:02.0f}-01&enddate={year}-{month:02.0f}-01',headers = {'token':Token}).json()\n",
    "                calc_prcp=0\n",
    "                avg_prcp=0\n",
    "                for x in range(len(responsePRCP['results'])):\n",
    "                    calc_prcp+=responsePRCP['results'][x]['value']\n",
    "                    avg_prcp=calc_prcp/len(responsePRCP['results'])\n",
    "                precip.append(avg_prcp)\n",
    "            except:\n",
    "                pprint('error occurred, appending 0 placeholder to all values')\n",
    "                precip.append(0)\n"
   ]
  },
  {
   "cell_type": "code",
   "execution_count": null,
   "metadata": {},
   "outputs": [],
   "source": [
    "#takes about 20 minutes to run\n",
    "for code in counties.index:\n",
    "    pprint(code)\n",
    "    for year in range(2005,2016,1):\n",
    "        pprint(year)\n",
    "        for month in range(1,13,1):\n",
    "            #request for wind data\n",
    "            try:\n",
    "                responseWIND = requests.get(query_url+f'&datatypeid=AWND&locationid=FIPS:06{code}&startdate={year}-{month:02.0f}-01&enddate={year}-{month:02.0f}-01',headers = {'token':Token}).json()\n",
    "                calc_wind=0\n",
    "                avg_wind=0\n",
    "                for z in range(len(responseWIND['results'])):\n",
    "                    calc_wind+=responseWIND['results'][z]['value']\n",
    "                    avg_wind=calc_wind/len(responseWIND['results'])\n",
    "                wind.append(avg_wind)\n",
    "            except:\n",
    "                pprint('error occurred, appending 0 placeholder to all values')\n",
    "                wind.append(0)\n"
   ]
  },
  {
   "cell_type": "code",
   "execution_count": 166,
   "metadata": {},
   "outputs": [],
   "source": [
    "response = requests.get('https://www.ncdc.noaa.gov/cdo-web/api/v2/data?datasetid=GSOM&units=standard&limit=1000&datatypeid=TMAX&locationid=FIPS:06017&startdate=2013-08-01&enddate=2013-08-01',headers = {'token':Token}).json()"
   ]
  },
  {
   "cell_type": "code",
   "execution_count": 168,
   "metadata": {},
   "outputs": [
    {
     "data": {
      "text/plain": [
       "79.85384615384616"
      ]
     },
     "execution_count": 168,
     "metadata": {},
     "output_type": "execute_result"
    }
   ],
   "source": [
    "calc=0\n",
    "avg=0\n",
    "for x in range(len(response['results'])):\n",
    "    calc+=response['results'][x]['value']\n",
    "    avg=calc/len(response['results'])\n",
    "avg\n"
   ]
  },
  {
   "cell_type": "code",
   "execution_count": 17,
   "metadata": {},
   "outputs": [],
   "source": [
    "#Configuring gmaps with api key\n",
    "gmaps.configure(api_key=\"INSERT KEY HERE\")"
   ]
  },
  {
   "cell_type": "code",
   "execution_count": 18,
   "metadata": {
    "scrolled": true
   },
   "outputs": [
    {
     "data": {
      "application/vnd.jupyter.widget-view+json": {
       "model_id": "2e7c640f68c54e0aa6da9b79335d6a26",
       "version_major": 2,
       "version_minor": 0
      },
      "text/plain": [
       "Figure(layout=FigureLayout(height='420px'))"
      ]
     },
     "metadata": {},
     "output_type": "display_data"
    }
   ],
   "source": [
    "#Calling out the heat map\n",
    "locations = wildfire[[\"LATITUDE\",\"LONGITUDE\"]].astype(float)\n",
    "\n",
    "\n",
    "fig = gmaps.figure()\n",
    "\n",
    "heat_layer = gmaps.heatmap_layer(locations, weights=wildfire[\"FIRE_SIZE\"],\n",
    "                                 dissipating=False, max_intensity=0.99,\n",
    "                                 point_radius = 1)\n",
    "\n",
    "fig.add_layer(heat_layer)\n",
    "\n",
    "fig\n"
   ]
  },
  {
   "cell_type": "code",
   "execution_count": null,
   "metadata": {},
   "outputs": [],
   "source": []
  }
 ],
 "metadata": {
  "kernelspec": {
   "display_name": "Python 3",
   "language": "python",
   "name": "python3"
  },
  "language_info": {
   "codemirror_mode": {
    "name": "ipython",
    "version": 3
   },
   "file_extension": ".py",
   "mimetype": "text/x-python",
   "name": "python",
   "nbconvert_exporter": "python",
   "pygments_lexer": "ipython3",
   "version": "3.6.10"
  }
 },
 "nbformat": 4,
 "nbformat_minor": 4
}
